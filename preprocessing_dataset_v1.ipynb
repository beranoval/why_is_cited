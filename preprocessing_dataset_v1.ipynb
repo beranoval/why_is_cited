{
 "cells": [
  {
   "cell_type": "markdown",
   "metadata": {},
   "source": [
    "# Part 1: Remove those articles from CORD-19 which are not in CORD-19-on-FHIR."
   ]
  },
  {
   "cell_type": "markdown",
   "metadata": {},
   "source": [
    "## Inputs and outputs"
   ]
  },
  {
   "cell_type": "code",
   "execution_count": 150,
   "metadata": {},
   "outputs": [],
   "source": [
    "DATA_PATH = \"./dataset/metadata.csv\" #source: https://www.kaggle.com/allen-institute-for-ai/CORD-19-research-challenge?select=metadata.csv\n",
    "FHIR_DATA_PATH = \"./dataset/PUBMED/\" #\"unzip the \"PUBMED.zip\" for FHIR data (source; https://github.com/fhircat/CORD-19-on-FHIR)\n",
    "FHIR_SUBSET_PATH = './dataset/metadata_fhir_subset.csv'  #output (intermediate result)\n",
    "METADATA_WITH_OPENCITATIONS = './dataset/metadata_with_opencitations.csv' #output"
   ]
  },
  {
   "cell_type": "markdown",
   "metadata": {},
   "source": [
    "### CORD-19"
   ]
  },
  {
   "cell_type": "markdown",
   "metadata": {},
   "source": [
    "* metadata.csv You can download the Full metadata file from this link -  https://www.kaggle.com/allen-institute-for-ai/CORD-19-research-challenge?select=metadata.csv\n",
    "* new permalink for replication: https://ai2-semanticscholar-cord-19.s3-us-west-2.amazonaws.com/historical_releases/cord-19_2020-10-12.tar.gz (results sligtly differ)"
   ]
  },
  {
   "cell_type": "markdown",
   "metadata": {},
   "source": [
    "### CORD-on-FHIR"
   ]
  },
  {
   "cell_type": "markdown",
   "metadata": {},
   "source": [
    "1. You can download all the PUBMED data set (.ttl file) from the CORD-19-on-FHIR GitHub.\n",
    "\n",
    "2. Download all the Pubtator abstracts files in the \"CORD-19-Abstracts\" folder from the link (https://github.com/fhircat/CORD-19-on-FHIR/tree/master/datasets/Pubtator_RDF/CORD-19-Abstracts) and copy all the .ttl file in a single folder (Example: PUBMED). \n",
    "\n",
    "Folder Name (Github): CORD-19-Abstracts\n",
    "zip Files name:\n",
    "1. PubTator_Abstracts_comm_use_subset_2020-04-09.zip\n",
    "2. PubTator_Abstracts_custom_license_2020-04-09.zip\n",
    "3. PubTator_Abstracts_noncomm_use_subset_2020-04-09.zip\n",
    "4. PubTator_Abstracts_unknown_license_2020-04-09.zip\n",
    "\n"
   ]
  },
  {
   "cell_type": "code",
   "execution_count": 151,
   "metadata": {},
   "outputs": [],
   "source": [
    "import pandas as pd\n",
    "import os\n",
    "from rdflib import Graph"
   ]
  },
  {
   "cell_type": "markdown",
   "metadata": {},
   "source": [
    "## Reading _all_ documents - NEW VERSION"
   ]
  },
  {
   "cell_type": "code",
   "execution_count": 152,
   "metadata": {},
   "outputs": [],
   "source": [
    "FHIR_SUBSET_PATH_ALL = './dataset/metadata_fhir_subset_ALL.csv'  #output (intermediate result)"
   ]
  },
  {
   "cell_type": "code",
   "execution_count": 153,
   "metadata": {},
   "outputs": [],
   "source": [
    "documents_all = pd.read_csv(DATA_PATH, dtype=object)\n"
   ]
  },
  {
   "cell_type": "code",
   "execution_count": 154,
   "metadata": {},
   "outputs": [
    {
     "data": {
      "text/plain": [
       "302449"
      ]
     },
     "execution_count": 154,
     "metadata": {},
     "output_type": "execute_result"
    }
   ],
   "source": [
    "len(documents_all)"
   ]
  },
  {
   "cell_type": "code",
   "execution_count": 155,
   "metadata": {},
   "outputs": [],
   "source": [
    "import glob\n",
    "fhir = [os.path.basename(f).replace(\".ttl\",\"\") for f in glob.glob(FHIR_DATA_PATH+ \"*.ttl\")]"
   ]
  },
  {
   "cell_type": "code",
   "execution_count": 156,
   "metadata": {},
   "outputs": [],
   "source": [
    "documents_all_2 = documents_all[documents_all['pubmed_id'].isin(fhir)]"
   ]
  },
  {
   "cell_type": "markdown",
   "metadata": {},
   "source": [
    "### The number of paired documents"
   ]
  },
  {
   "cell_type": "code",
   "execution_count": 157,
   "metadata": {},
   "outputs": [
    {
     "data": {
      "text/plain": [
       "31761"
      ]
     },
     "execution_count": 157,
     "metadata": {},
     "output_type": "execute_result"
    }
   ],
   "source": [
    "len(documents_all_2)"
   ]
  },
  {
   "cell_type": "code",
   "execution_count": 158,
   "metadata": {},
   "outputs": [],
   "source": [
    "documents_all_2.fillna(0).to_csv(FHIR_SUBSET_PATH_ALL,encoding='utf-8',index=False)   #metadata_fhir_subset"
   ]
  },
  {
   "cell_type": "markdown",
   "metadata": {},
   "source": [
    "## Replication of V1 code - only first 10% of documents from CORD19 were used in the pairing process"
   ]
  },
  {
   "cell_type": "code",
   "execution_count": 159,
   "metadata": {},
   "outputs": [],
   "source": [
    "FHIR_SUBSET_PATH_V1_new_code = './dataset/metadata_fhir_subset_new_code.csv'"
   ]
  },
  {
   "cell_type": "code",
   "execution_count": 202,
   "metadata": {},
   "outputs": [],
   "source": [
    "maxRows=int(len(documents_all)/10)"
   ]
  },
  {
   "cell_type": "code",
   "execution_count": 203,
   "metadata": {},
   "outputs": [
    {
     "data": {
      "text/plain": [
       "30244"
      ]
     },
     "execution_count": 203,
     "metadata": {},
     "output_type": "execute_result"
    }
   ],
   "source": [
    "maxRows"
   ]
  },
  {
   "cell_type": "code",
   "execution_count": 204,
   "metadata": {},
   "outputs": [],
   "source": [
    "documents_all_first= documents_all[0:maxRows] #13308"
   ]
  },
  {
   "cell_type": "code",
   "execution_count": 205,
   "metadata": {},
   "outputs": [],
   "source": [
    "documents_all_3 = documents_all_first[documents_all_first['pubmed_id'].isin(fhir)]\n"
   ]
  },
  {
   "cell_type": "markdown",
   "metadata": {},
   "source": [
    "### The number of paired documents"
   ]
  },
  {
   "cell_type": "code",
   "execution_count": 206,
   "metadata": {},
   "outputs": [
    {
     "data": {
      "text/plain": [
       "5153"
      ]
     },
     "execution_count": 206,
     "metadata": {},
     "output_type": "execute_result"
    }
   ],
   "source": [
    "len(documents_all_3)"
   ]
  },
  {
   "cell_type": "code",
   "execution_count": 163,
   "metadata": {},
   "outputs": [],
   "source": [
    "documents_all_3.fillna(0).to_csv(FHIR_SUBSET_PATH_V1_new_code,encoding='utf-8',index=False)   #metadata_fhir_subset"
   ]
  },
  {
   "cell_type": "markdown",
   "metadata": {},
   "source": [
    "# Part 2: Citation extraction "
   ]
  },
  {
   "cell_type": "markdown",
   "metadata": {},
   "source": [
    "## Inputs"
   ]
  },
  {
   "cell_type": "code",
   "execution_count": 174,
   "metadata": {},
   "outputs": [
    {
     "ename": "ModuleNotFoundError",
     "evalue": "No module named 'Opencitations'",
     "output_type": "error",
     "traceback": [
      "\u001b[0;31m--------------------------------------------------------\u001b[0m",
      "\u001b[0;31mModuleNotFoundError\u001b[0m    Traceback (most recent call last)",
      "\u001b[0;32m<ipython-input-174-dad5dd6f9862>\u001b[0m in \u001b[0;36m<module>\u001b[0;34m\u001b[0m\n\u001b[1;32m      1\u001b[0m \u001b[0;32mimport\u001b[0m \u001b[0mpandas\u001b[0m \u001b[0;32mas\u001b[0m \u001b[0mpd\u001b[0m\u001b[0;34m\u001b[0m\u001b[0;34m\u001b[0m\u001b[0m\n\u001b[0;32m----> 2\u001b[0;31m \u001b[0;32mfrom\u001b[0m \u001b[0mOpencitations\u001b[0m\u001b[0;34m.\u001b[0m\u001b[0mOpenCitations\u001b[0m \u001b[0;32mimport\u001b[0m \u001b[0mretrieveOpenCitationFromAPI\u001b[0m \u001b[0;31m#This extracts citations through the Opencitations API and stores them locally in the Opencitations/data/metadata.json file. To extract new citation count every time from the API, remove the docs folder inside the citation_Extraction_and_Count/Opencitations folder, then run it again.\u001b[0m\u001b[0;34m\u001b[0m\u001b[0;34m\u001b[0m\u001b[0m\n\u001b[0m\u001b[1;32m      3\u001b[0m \u001b[0;32mfrom\u001b[0m \u001b[0mOpencitations\u001b[0m\u001b[0;34m.\u001b[0m\u001b[0mOpenCitationExtraction\u001b[0m \u001b[0;32mimport\u001b[0m \u001b[0mOpen_Citation_Extraction\u001b[0m \u001b[0;31m#This file tries to match the DOI from the metadata file to the citation list in the cached JSON file with OpenCitations responses\u001b[0m\u001b[0;34m\u001b[0m\u001b[0;34m\u001b[0m\u001b[0m\n",
      "\u001b[0;31mModuleNotFoundError\u001b[0m: No module named 'Opencitations'"
     ]
    }
   ],
   "source": [
    "import pandas as pd\n",
    "from Opencitations.OpenCitations import retrieveOpenCitationFromAPI #This extracts citations through the Opencitations API and stores them locally in the Opencitations/data/metadata.json file. To extract new citation count every time from the API, remove the docs folder inside the citation_Extraction_and_Count/Opencitations folder, then run it again.\n",
    "from Opencitations.OpenCitationExtraction import Open_Citation_Extraction #This file tries to match the DOI from the metadata file to the citation list in the cached JSON file with OpenCitations responses"
   ]
  },
  {
   "cell_type": "code",
   "execution_count": null,
   "metadata": {},
   "outputs": [],
   "source": [
    "research_metadata_df = pd.read_csv(FHIR_SUBSET_PATH, error_bad_lines=False)"
   ]
  },
  {
   "cell_type": "code",
   "execution_count": null,
   "metadata": {},
   "outputs": [],
   "source": [
    "research_metadata_df.drop_duplicates(subset=['doi'], keep=False)"
   ]
  },
  {
   "cell_type": "code",
   "execution_count": null,
   "metadata": {},
   "outputs": [],
   "source": [
    "research_metadata_df = research_metadata_df.dropna()"
   ]
  },
  {
   "cell_type": "code",
   "execution_count": null,
   "metadata": {},
   "outputs": [],
   "source": [
    "research_metadata_df.drop(research_metadata_df[research_metadata_df['abstract'].map(len) < 3].index)"
   ]
  },
  {
   "cell_type": "code",
   "execution_count": null,
   "metadata": {},
   "outputs": [],
   "source": [
    "#To clear cache, remove the docs folder inside the Opencitations/docs folder\n",
    "#output_path = \"Opencitations/data\"\n",
    "retrieveOpenCitationFromAPI(clearCache=True) #"
   ]
  },
  {
   "cell_type": "code",
   "execution_count": null,
   "metadata": {},
   "outputs": [],
   "source": [
    "json_path = './Opencitations/docs/Opencitations/data/metadata.json'\n",
    "Opencitation_df = Open_Citation_Extraction(json_path, research_metadata_df, FHIR_SUBSET_PATH)"
   ]
  },
  {
   "cell_type": "code",
   "execution_count": null,
   "metadata": {},
   "outputs": [],
   "source": [
    "FHIR_SUBSET_PATH"
   ]
  },
  {
   "cell_type": "code",
   "execution_count": null,
   "metadata": {},
   "outputs": [],
   "source": [
    "Opencitation_df"
   ]
  },
  {
   "cell_type": "code",
   "execution_count": null,
   "metadata": {},
   "outputs": [],
   "source": [
    "Opencitation_df.isin(['NaN']).sum()"
   ]
  },
  {
   "cell_type": "code",
   "execution_count": null,
   "metadata": {},
   "outputs": [],
   "source": [
    "Opencitation_df.fillna(0).to_csv(METADATA_WITH_OPENCITATIONS,encoding='utf-8',index=False) #metadata_with_opencitations"
   ]
  }
 ],
 "metadata": {
  "kernelspec": {
   "display_name": "Python 3",
   "language": "python",
   "name": "python3"
  },
  "language_info": {
   "codemirror_mode": {
    "name": "ipython",
    "version": 3
   },
   "file_extension": ".py",
   "mimetype": "text/x-python",
   "name": "python",
   "nbconvert_exporter": "python",
   "pygments_lexer": "ipython3",
   "version": "3.8.8"
  }
 },
 "nbformat": 4,
 "nbformat_minor": 4
}
