{
 "cells": [
  {
   "cell_type": "markdown",
   "metadata": {},
   "source": [
    "## TEXT PREPROCESSING"
   ]
  },
  {
   "cell_type": "markdown",
   "metadata": {},
   "source": [
    "This notebook is for preprocessing text (abstracts) from Kaggle dataset CORD-19. (Used for dataset version 2) "
   ]
  },
  {
   "cell_type": "code",
   "execution_count": 1,
   "metadata": {},
   "outputs": [],
   "source": [
    "import pandas as pd                        \n",
    "import numpy as np                         \n",
    "import seaborn as sns                      \n",
    "import matplotlib.pyplot as plt            \n",
    "import re                                 \n",
    "import string                              \n",
    "import warnings                            \n",
    "import nltk                                \n",
    "from nltk.corpus import stopwords         \n",
    "from gensim.corpora import Dictionary      "
   ]
  },
  {
   "cell_type": "code",
   "execution_count": 2,
   "metadata": {},
   "outputs": [],
   "source": [
    "warnings.filterwarnings('ignore')"
   ]
  },
  {
   "cell_type": "markdown",
   "metadata": {},
   "source": [
    "### Load Kaggle dataset with abstracts + some filtering "
   ]
  },
  {
   "cell_type": "code",
   "execution_count": 3,
   "metadata": {},
   "outputs": [
    {
     "data": {
      "text/html": [
       "<div>\n",
       "<style scoped>\n",
       "    .dataframe tbody tr th:only-of-type {\n",
       "        vertical-align: middle;\n",
       "    }\n",
       "\n",
       "    .dataframe tbody tr th {\n",
       "        vertical-align: top;\n",
       "    }\n",
       "\n",
       "    .dataframe thead th {\n",
       "        text-align: right;\n",
       "    }\n",
       "</style>\n",
       "<table border=\"1\" class=\"dataframe\">\n",
       "  <thead>\n",
       "    <tr style=\"text-align: right;\">\n",
       "      <th></th>\n",
       "      <th>cord_uid</th>\n",
       "      <th>sha</th>\n",
       "      <th>source_x</th>\n",
       "      <th>title</th>\n",
       "      <th>doi</th>\n",
       "      <th>pmcid</th>\n",
       "      <th>pubmed_id</th>\n",
       "      <th>license</th>\n",
       "      <th>abstract</th>\n",
       "      <th>publish_time</th>\n",
       "      <th>authors</th>\n",
       "      <th>journal</th>\n",
       "      <th>mag_id</th>\n",
       "      <th>who_covidence_id</th>\n",
       "      <th>arxiv_id</th>\n",
       "      <th>pdf_json_files</th>\n",
       "      <th>pmc_json_files</th>\n",
       "      <th>url</th>\n",
       "      <th>s2_id</th>\n",
       "    </tr>\n",
       "  </thead>\n",
       "  <tbody>\n",
       "    <tr>\n",
       "      <th>0</th>\n",
       "      <td>ug7v899j</td>\n",
       "      <td>d1aafb70c066a2068b02786f8929fd9c900897fb</td>\n",
       "      <td>PMC</td>\n",
       "      <td>Clinical features of culture-proven Mycoplasma...</td>\n",
       "      <td>10.1186/1471-2334-1-6</td>\n",
       "      <td>PMC35282</td>\n",
       "      <td>11472636</td>\n",
       "      <td>no-cc</td>\n",
       "      <td>OBJECTIVE: This retrospective chart review des...</td>\n",
       "      <td>2001-07-04</td>\n",
       "      <td>Madani, Tariq A; Al-Ghamdi, Aisha A</td>\n",
       "      <td>BMC Infect Dis</td>\n",
       "      <td>NaN</td>\n",
       "      <td>NaN</td>\n",
       "      <td>NaN</td>\n",
       "      <td>document_parses/pdf_json/d1aafb70c066a2068b027...</td>\n",
       "      <td>document_parses/pmc_json/PMC35282.xml.json</td>\n",
       "      <td>https://www.ncbi.nlm.nih.gov/pmc/articles/PMC3...</td>\n",
       "      <td>NaN</td>\n",
       "    </tr>\n",
       "    <tr>\n",
       "      <th>1</th>\n",
       "      <td>02tnwd4m</td>\n",
       "      <td>6b0567729c2143a66d737eb0a2f63f2dce2e5a7d</td>\n",
       "      <td>PMC</td>\n",
       "      <td>Nitric oxide: a pro-inflammatory mediator in l...</td>\n",
       "      <td>10.1186/rr14</td>\n",
       "      <td>PMC59543</td>\n",
       "      <td>11667967</td>\n",
       "      <td>no-cc</td>\n",
       "      <td>Inflammatory diseases of the respiratory tract...</td>\n",
       "      <td>2000-08-15</td>\n",
       "      <td>Vliet, Albert van der; Eiserich, Jason P; Cros...</td>\n",
       "      <td>Respir Res</td>\n",
       "      <td>NaN</td>\n",
       "      <td>NaN</td>\n",
       "      <td>NaN</td>\n",
       "      <td>document_parses/pdf_json/6b0567729c2143a66d737...</td>\n",
       "      <td>document_parses/pmc_json/PMC59543.xml.json</td>\n",
       "      <td>https://www.ncbi.nlm.nih.gov/pmc/articles/PMC5...</td>\n",
       "      <td>NaN</td>\n",
       "    </tr>\n",
       "    <tr>\n",
       "      <th>2</th>\n",
       "      <td>ejv2xln0</td>\n",
       "      <td>06ced00a5fc04215949aa72528f2eeaae1d58927</td>\n",
       "      <td>PMC</td>\n",
       "      <td>Surfactant protein-D and pulmonary host defense</td>\n",
       "      <td>10.1186/rr19</td>\n",
       "      <td>PMC59549</td>\n",
       "      <td>11667972</td>\n",
       "      <td>no-cc</td>\n",
       "      <td>Surfactant protein-D (SP-D) participates in th...</td>\n",
       "      <td>2000-08-25</td>\n",
       "      <td>Crouch, Erika C</td>\n",
       "      <td>Respir Res</td>\n",
       "      <td>NaN</td>\n",
       "      <td>NaN</td>\n",
       "      <td>NaN</td>\n",
       "      <td>document_parses/pdf_json/06ced00a5fc04215949aa...</td>\n",
       "      <td>document_parses/pmc_json/PMC59549.xml.json</td>\n",
       "      <td>https://www.ncbi.nlm.nih.gov/pmc/articles/PMC5...</td>\n",
       "      <td>NaN</td>\n",
       "    </tr>\n",
       "    <tr>\n",
       "      <th>3</th>\n",
       "      <td>2b73a28n</td>\n",
       "      <td>348055649b6b8cf2b9a376498df9bf41f7123605</td>\n",
       "      <td>PMC</td>\n",
       "      <td>Role of endothelin-1 in lung disease</td>\n",
       "      <td>10.1186/rr44</td>\n",
       "      <td>PMC59574</td>\n",
       "      <td>11686871</td>\n",
       "      <td>no-cc</td>\n",
       "      <td>Endothelin-1 (ET-1) is a 21 amino acid peptide...</td>\n",
       "      <td>2001-02-22</td>\n",
       "      <td>Fagan, Karen A; McMurtry, Ivan F; Rodman, David M</td>\n",
       "      <td>Respir Res</td>\n",
       "      <td>NaN</td>\n",
       "      <td>NaN</td>\n",
       "      <td>NaN</td>\n",
       "      <td>document_parses/pdf_json/348055649b6b8cf2b9a37...</td>\n",
       "      <td>document_parses/pmc_json/PMC59574.xml.json</td>\n",
       "      <td>https://www.ncbi.nlm.nih.gov/pmc/articles/PMC5...</td>\n",
       "      <td>NaN</td>\n",
       "    </tr>\n",
       "    <tr>\n",
       "      <th>4</th>\n",
       "      <td>9785vg6d</td>\n",
       "      <td>5f48792a5fa08bed9f56016f4981ae2ca6031b32</td>\n",
       "      <td>PMC</td>\n",
       "      <td>Gene expression in epithelial cells in respons...</td>\n",
       "      <td>10.1186/rr61</td>\n",
       "      <td>PMC59580</td>\n",
       "      <td>11686888</td>\n",
       "      <td>no-cc</td>\n",
       "      <td>Respiratory syncytial virus (RSV) and pneumoni...</td>\n",
       "      <td>2001-05-11</td>\n",
       "      <td>Domachowske, Joseph B; Bonville, Cynthia A; Ro...</td>\n",
       "      <td>Respir Res</td>\n",
       "      <td>NaN</td>\n",
       "      <td>NaN</td>\n",
       "      <td>NaN</td>\n",
       "      <td>document_parses/pdf_json/5f48792a5fa08bed9f560...</td>\n",
       "      <td>document_parses/pmc_json/PMC59580.xml.json</td>\n",
       "      <td>https://www.ncbi.nlm.nih.gov/pmc/articles/PMC5...</td>\n",
       "      <td>NaN</td>\n",
       "    </tr>\n",
       "    <tr>\n",
       "      <th>...</th>\n",
       "      <td>...</td>\n",
       "      <td>...</td>\n",
       "      <td>...</td>\n",
       "      <td>...</td>\n",
       "      <td>...</td>\n",
       "      <td>...</td>\n",
       "      <td>...</td>\n",
       "      <td>...</td>\n",
       "      <td>...</td>\n",
       "      <td>...</td>\n",
       "      <td>...</td>\n",
       "      <td>...</td>\n",
       "      <td>...</td>\n",
       "      <td>...</td>\n",
       "      <td>...</td>\n",
       "      <td>...</td>\n",
       "      <td>...</td>\n",
       "      <td>...</td>\n",
       "      <td>...</td>\n",
       "    </tr>\n",
       "    <tr>\n",
       "      <th>659497</th>\n",
       "      <td>1bx1f3vg</td>\n",
       "      <td>4efbaad70dad7d5fd30065e507aa0fcbf3a57118</td>\n",
       "      <td>Medline; PMC</td>\n",
       "      <td>Evaluation of the impact of the COVID-19 lockd...</td>\n",
       "      <td>10.1007/s00432-021-03621-7</td>\n",
       "      <td>PMC8021215</td>\n",
       "      <td>33821320.0</td>\n",
       "      <td>cc-by</td>\n",
       "      <td>PURPOSE: The benefits of regular physical exer...</td>\n",
       "      <td>2021-04-05</td>\n",
       "      <td>Motton, Stéphanie; Vergriete, Kelig; VanPhi, L...</td>\n",
       "      <td>J Cancer Res Clin Oncol</td>\n",
       "      <td>NaN</td>\n",
       "      <td>NaN</td>\n",
       "      <td>NaN</td>\n",
       "      <td>document_parses/pdf_json/4efbaad70dad7d5fd3006...</td>\n",
       "      <td>document_parses/pmc_json/PMC8021215.xml.json</td>\n",
       "      <td>https://www.ncbi.nlm.nih.gov/pubmed/33821320/;...</td>\n",
       "      <td>233030613.0</td>\n",
       "    </tr>\n",
       "    <tr>\n",
       "      <th>659498</th>\n",
       "      <td>fffrnhbx</td>\n",
       "      <td>7e1c78e84a86c94c9da79297c2d0c9820af0e30f</td>\n",
       "      <td>Medline; PMC</td>\n",
       "      <td>SARS-CoV-2 infection fatality rate among elder...</td>\n",
       "      <td>10.1093/cid/ciaa1627</td>\n",
       "      <td>PMC7665387</td>\n",
       "      <td>33103182.0</td>\n",
       "      <td>cc-by-nc-nd</td>\n",
       "      <td>BACKGROUND: Despite the vast majority of indiv...</td>\n",
       "      <td>2020-10-26</td>\n",
       "      <td>Pedersen, Ole Birger; Nissen, Janna; Dinh, Kho...</td>\n",
       "      <td>Clin Infect Dis</td>\n",
       "      <td>NaN</td>\n",
       "      <td>NaN</td>\n",
       "      <td>NaN</td>\n",
       "      <td>document_parses/pdf_json/7e1c78e84a86c94c9da79...</td>\n",
       "      <td>NaN</td>\n",
       "      <td>https://www.ncbi.nlm.nih.gov/pubmed/33103182/;...</td>\n",
       "      <td>225069963.0</td>\n",
       "    </tr>\n",
       "    <tr>\n",
       "      <th>659499</th>\n",
       "      <td>crz52oo8</td>\n",
       "      <td>6b04f6082c05d936f11d395a5c70ce2edf37bf57</td>\n",
       "      <td>BioRxiv; WHO</td>\n",
       "      <td>De novo design of high-affinity antibody varia...</td>\n",
       "      <td>10.1101/2020.04.09.034868</td>\n",
       "      <td>NaN</td>\n",
       "      <td>NaN</td>\n",
       "      <td>biorxiv</td>\n",
       "      <td>The emergence of SARS-CoV-2 is responsible for...</td>\n",
       "      <td>2020-05-11</td>\n",
       "      <td>Boorla, Veda Sheersh; Chowdhury, Ratul; Marana...</td>\n",
       "      <td>bioRxiv</td>\n",
       "      <td>NaN</td>\n",
       "      <td>NaN</td>\n",
       "      <td>NaN</td>\n",
       "      <td>document_parses/pdf_json/6b04f6082c05d936f11d3...</td>\n",
       "      <td>NaN</td>\n",
       "      <td>https://doi.org/10.1101/2020.04.09.034868</td>\n",
       "      <td>215790698.0</td>\n",
       "    </tr>\n",
       "    <tr>\n",
       "      <th>659500</th>\n",
       "      <td>1bxxmmc1</td>\n",
       "      <td>f4ead62f942cf3d4f4a963e4ee72e05db58da631</td>\n",
       "      <td>Elsevier; Medline; PMC</td>\n",
       "      <td>Biophysicists' outstanding response to Covid-19</td>\n",
       "      <td>10.1016/j.bpj.2021.02.020</td>\n",
       "      <td>PMC7931721</td>\n",
       "      <td>33689685.0</td>\n",
       "      <td>no-cc</td>\n",
       "      <td>NaN</td>\n",
       "      <td>2021-03-04</td>\n",
       "      <td>Schlick, Tamar; Sundberg, Eric J.; Schroeder, ...</td>\n",
       "      <td>Biophys J</td>\n",
       "      <td>NaN</td>\n",
       "      <td>NaN</td>\n",
       "      <td>NaN</td>\n",
       "      <td>document_parses/pdf_json/f4ead62f942cf3d4f4a96...</td>\n",
       "      <td>document_parses/pmc_json/PMC7931721.xml.json</td>\n",
       "      <td>https://www.ncbi.nlm.nih.gov/pubmed/33689685/;...</td>\n",
       "      <td>232115901.0</td>\n",
       "    </tr>\n",
       "    <tr>\n",
       "      <th>659501</th>\n",
       "      <td>kdo2hir8</td>\n",
       "      <td>7fc3f498ecbcbbdcb64dcbac681e9d6a7a369139</td>\n",
       "      <td>Medline; PMC</td>\n",
       "      <td>Placental Pathology in Covid-19 Positive Mothe...</td>\n",
       "      <td>10.1177/1093526620925569</td>\n",
       "      <td>PMC7252218</td>\n",
       "      <td>32397896.0</td>\n",
       "      <td>cc-by</td>\n",
       "      <td>This study describes the pathology and clinica...</td>\n",
       "      <td>2020-05-12</td>\n",
       "      <td>Baergen, Rebecca N; Heller, Debra S</td>\n",
       "      <td>Pediatr Dev Pathol</td>\n",
       "      <td>NaN</td>\n",
       "      <td>NaN</td>\n",
       "      <td>NaN</td>\n",
       "      <td>document_parses/pdf_json/7fc3f498ecbcbbdcb64dc...</td>\n",
       "      <td>document_parses/pmc_json/PMC7252218.xml.json</td>\n",
       "      <td>https://doi.org/10.1177/1093526620925569; http...</td>\n",
       "      <td>218616735.0</td>\n",
       "    </tr>\n",
       "  </tbody>\n",
       "</table>\n",
       "<p>659502 rows × 19 columns</p>\n",
       "</div>"
      ],
      "text/plain": [
       "        cord_uid                                       sha  \\\n",
       "0       ug7v899j  d1aafb70c066a2068b02786f8929fd9c900897fb   \n",
       "1       02tnwd4m  6b0567729c2143a66d737eb0a2f63f2dce2e5a7d   \n",
       "2       ejv2xln0  06ced00a5fc04215949aa72528f2eeaae1d58927   \n",
       "3       2b73a28n  348055649b6b8cf2b9a376498df9bf41f7123605   \n",
       "4       9785vg6d  5f48792a5fa08bed9f56016f4981ae2ca6031b32   \n",
       "...          ...                                       ...   \n",
       "659497  1bx1f3vg  4efbaad70dad7d5fd30065e507aa0fcbf3a57118   \n",
       "659498  fffrnhbx  7e1c78e84a86c94c9da79297c2d0c9820af0e30f   \n",
       "659499  crz52oo8  6b04f6082c05d936f11d395a5c70ce2edf37bf57   \n",
       "659500  1bxxmmc1  f4ead62f942cf3d4f4a963e4ee72e05db58da631   \n",
       "659501  kdo2hir8  7fc3f498ecbcbbdcb64dcbac681e9d6a7a369139   \n",
       "\n",
       "                      source_x  \\\n",
       "0                          PMC   \n",
       "1                          PMC   \n",
       "2                          PMC   \n",
       "3                          PMC   \n",
       "4                          PMC   \n",
       "...                        ...   \n",
       "659497            Medline; PMC   \n",
       "659498            Medline; PMC   \n",
       "659499            BioRxiv; WHO   \n",
       "659500  Elsevier; Medline; PMC   \n",
       "659501            Medline; PMC   \n",
       "\n",
       "                                                    title  \\\n",
       "0       Clinical features of culture-proven Mycoplasma...   \n",
       "1       Nitric oxide: a pro-inflammatory mediator in l...   \n",
       "2         Surfactant protein-D and pulmonary host defense   \n",
       "3                    Role of endothelin-1 in lung disease   \n",
       "4       Gene expression in epithelial cells in respons...   \n",
       "...                                                   ...   \n",
       "659497  Evaluation of the impact of the COVID-19 lockd...   \n",
       "659498  SARS-CoV-2 infection fatality rate among elder...   \n",
       "659499  De novo design of high-affinity antibody varia...   \n",
       "659500    Biophysicists' outstanding response to Covid-19   \n",
       "659501  Placental Pathology in Covid-19 Positive Mothe...   \n",
       "\n",
       "                               doi       pmcid   pubmed_id      license  \\\n",
       "0            10.1186/1471-2334-1-6    PMC35282    11472636        no-cc   \n",
       "1                     10.1186/rr14    PMC59543    11667967        no-cc   \n",
       "2                     10.1186/rr19    PMC59549    11667972        no-cc   \n",
       "3                     10.1186/rr44    PMC59574    11686871        no-cc   \n",
       "4                     10.1186/rr61    PMC59580    11686888        no-cc   \n",
       "...                            ...         ...         ...          ...   \n",
       "659497  10.1007/s00432-021-03621-7  PMC8021215  33821320.0        cc-by   \n",
       "659498        10.1093/cid/ciaa1627  PMC7665387  33103182.0  cc-by-nc-nd   \n",
       "659499   10.1101/2020.04.09.034868         NaN         NaN      biorxiv   \n",
       "659500   10.1016/j.bpj.2021.02.020  PMC7931721  33689685.0        no-cc   \n",
       "659501    10.1177/1093526620925569  PMC7252218  32397896.0        cc-by   \n",
       "\n",
       "                                                 abstract publish_time  \\\n",
       "0       OBJECTIVE: This retrospective chart review des...   2001-07-04   \n",
       "1       Inflammatory diseases of the respiratory tract...   2000-08-15   \n",
       "2       Surfactant protein-D (SP-D) participates in th...   2000-08-25   \n",
       "3       Endothelin-1 (ET-1) is a 21 amino acid peptide...   2001-02-22   \n",
       "4       Respiratory syncytial virus (RSV) and pneumoni...   2001-05-11   \n",
       "...                                                   ...          ...   \n",
       "659497  PURPOSE: The benefits of regular physical exer...   2021-04-05   \n",
       "659498  BACKGROUND: Despite the vast majority of indiv...   2020-10-26   \n",
       "659499  The emergence of SARS-CoV-2 is responsible for...   2020-05-11   \n",
       "659500                                                NaN   2021-03-04   \n",
       "659501  This study describes the pathology and clinica...   2020-05-12   \n",
       "\n",
       "                                                  authors  \\\n",
       "0                     Madani, Tariq A; Al-Ghamdi, Aisha A   \n",
       "1       Vliet, Albert van der; Eiserich, Jason P; Cros...   \n",
       "2                                         Crouch, Erika C   \n",
       "3       Fagan, Karen A; McMurtry, Ivan F; Rodman, David M   \n",
       "4       Domachowske, Joseph B; Bonville, Cynthia A; Ro...   \n",
       "...                                                   ...   \n",
       "659497  Motton, Stéphanie; Vergriete, Kelig; VanPhi, L...   \n",
       "659498  Pedersen, Ole Birger; Nissen, Janna; Dinh, Kho...   \n",
       "659499  Boorla, Veda Sheersh; Chowdhury, Ratul; Marana...   \n",
       "659500  Schlick, Tamar; Sundberg, Eric J.; Schroeder, ...   \n",
       "659501                Baergen, Rebecca N; Heller, Debra S   \n",
       "\n",
       "                        journal  mag_id who_covidence_id arxiv_id  \\\n",
       "0                BMC Infect Dis     NaN              NaN      NaN   \n",
       "1                    Respir Res     NaN              NaN      NaN   \n",
       "2                    Respir Res     NaN              NaN      NaN   \n",
       "3                    Respir Res     NaN              NaN      NaN   \n",
       "4                    Respir Res     NaN              NaN      NaN   \n",
       "...                         ...     ...              ...      ...   \n",
       "659497  J Cancer Res Clin Oncol     NaN              NaN      NaN   \n",
       "659498          Clin Infect Dis     NaN              NaN      NaN   \n",
       "659499                  bioRxiv     NaN              NaN      NaN   \n",
       "659500                Biophys J     NaN              NaN      NaN   \n",
       "659501       Pediatr Dev Pathol     NaN              NaN      NaN   \n",
       "\n",
       "                                           pdf_json_files  \\\n",
       "0       document_parses/pdf_json/d1aafb70c066a2068b027...   \n",
       "1       document_parses/pdf_json/6b0567729c2143a66d737...   \n",
       "2       document_parses/pdf_json/06ced00a5fc04215949aa...   \n",
       "3       document_parses/pdf_json/348055649b6b8cf2b9a37...   \n",
       "4       document_parses/pdf_json/5f48792a5fa08bed9f560...   \n",
       "...                                                   ...   \n",
       "659497  document_parses/pdf_json/4efbaad70dad7d5fd3006...   \n",
       "659498  document_parses/pdf_json/7e1c78e84a86c94c9da79...   \n",
       "659499  document_parses/pdf_json/6b04f6082c05d936f11d3...   \n",
       "659500  document_parses/pdf_json/f4ead62f942cf3d4f4a96...   \n",
       "659501  document_parses/pdf_json/7fc3f498ecbcbbdcb64dc...   \n",
       "\n",
       "                                      pmc_json_files  \\\n",
       "0         document_parses/pmc_json/PMC35282.xml.json   \n",
       "1         document_parses/pmc_json/PMC59543.xml.json   \n",
       "2         document_parses/pmc_json/PMC59549.xml.json   \n",
       "3         document_parses/pmc_json/PMC59574.xml.json   \n",
       "4         document_parses/pmc_json/PMC59580.xml.json   \n",
       "...                                              ...   \n",
       "659497  document_parses/pmc_json/PMC8021215.xml.json   \n",
       "659498                                           NaN   \n",
       "659499                                           NaN   \n",
       "659500  document_parses/pmc_json/PMC7931721.xml.json   \n",
       "659501  document_parses/pmc_json/PMC7252218.xml.json   \n",
       "\n",
       "                                                      url        s2_id  \n",
       "0       https://www.ncbi.nlm.nih.gov/pmc/articles/PMC3...          NaN  \n",
       "1       https://www.ncbi.nlm.nih.gov/pmc/articles/PMC5...          NaN  \n",
       "2       https://www.ncbi.nlm.nih.gov/pmc/articles/PMC5...          NaN  \n",
       "3       https://www.ncbi.nlm.nih.gov/pmc/articles/PMC5...          NaN  \n",
       "4       https://www.ncbi.nlm.nih.gov/pmc/articles/PMC5...          NaN  \n",
       "...                                                   ...          ...  \n",
       "659497  https://www.ncbi.nlm.nih.gov/pubmed/33821320/;...  233030613.0  \n",
       "659498  https://www.ncbi.nlm.nih.gov/pubmed/33103182/;...  225069963.0  \n",
       "659499          https://doi.org/10.1101/2020.04.09.034868  215790698.0  \n",
       "659500  https://www.ncbi.nlm.nih.gov/pubmed/33689685/;...  232115901.0  \n",
       "659501  https://doi.org/10.1177/1093526620925569; http...  218616735.0  \n",
       "\n",
       "[659502 rows x 19 columns]"
      ]
     },
     "execution_count": 3,
     "metadata": {},
     "output_type": "execute_result"
    }
   ],
   "source": [
    "pd.read_csv(\"sources/metadata.csv\")"
   ]
  },
  {
   "cell_type": "code",
   "execution_count": 5,
   "metadata": {},
   "outputs": [
    {
     "name": "stdout",
     "output_type": "stream",
     "text": [
      "Number of all articles before cleaning and filtering (are duplicated across sources): 659502\n",
      "Number of articles of unique doi :332893\n",
      "Number of articles of unique doi with not null abstracts:255902\n",
      "Number of articles of unique doi with len of abstract > 10:255639\n"
     ]
    }
   ],
   "source": [
    "df_all = pd.read_csv(\"sources/metadata.csv\")\n",
    "df_all['Year'] = pd.DatetimeIndex(df_all['publish_time']).year\n",
    "df_all['Month'] = pd.DatetimeIndex(df_all['publish_time']).month\n",
    "df_all = df_all[[\"Year\",\"Month\",\"abstract\",\"doi\",\"cord_uid\"]]\n",
    "print(\"Number of all articles before cleaning and filtering (are duplicated across sources): \"+str(len(df_all)))\n",
    "\n",
    "df_all = df_all.drop_duplicates(\"doi\")\n",
    "print(\"Number of articles of unique doi :\" + str(len(df_all)))\n",
    "\n",
    "df_all = df_all[pd.notnull(df_all['abstract'])]\n",
    "print(\"Number of articles of unique doi with not null abstracts:\" + str(len(df_all)))\n",
    "\n",
    "df_all['len'] =df_all['abstract'].map(len)\n",
    "df_all = df_all[df_all['len']>10]\n",
    "print(\"Number of articles of unique doi with len of abstract > 10:\" + str(len(df_all)))"
   ]
  },
  {
   "cell_type": "markdown",
   "metadata": {},
   "source": [
    "#  TExt cleaning \n"
   ]
  },
  {
   "cell_type": "markdown",
   "metadata": {},
   "source": [
    "- 1 313 622 words from the not cleaned abstracts of the 255 639 articles \n",
    "- Number of unique words after all that: 39 657\n",
    "- Number of unique words after all that for articles with target can be different because articles will be reduced by target!\n",
    "\n",
    "**Text cleaning steps**:\n",
    "- Removed rare words (which are in less than 5 articles) \n",
    "- Removed some predefined stop words\n",
    "- Removed punctions except / and – (which are often used to connect words) / and – replaced with „“\n",
    "- Converted to lower case\n",
    "- deleted single numbers (not of len = 4 – dont want to delete years)\n",
    "- Lemmatization (convert the word into root word)"
   ]
  },
  {
   "cell_type": "markdown",
   "metadata": {},
   "source": [
    "### Create functions for removing punctions, stopwords and lemmatization"
   ]
  },
  {
   "cell_type": "code",
   "execution_count": 4,
   "metadata": {},
   "outputs": [],
   "source": [
    "def remove_punc_lower(text):   \n",
    "    ## clean (convert to lowercase and remove punctuations and characters and then strip)\n",
    "    # I dont want to remove dash, because dash is connection between words!\n",
    "    remove = string.punctuation\n",
    "    remove = remove.replace(\"-\", \"\")     \n",
    "    remove = remove.replace(\"/\", \"\")\n",
    "    pattern = r\"[{}]\".format(remove)\n",
    "    text = re.sub(pattern, \"\", str(text).lower().strip())    \n",
    "    return text"
   ]
  },
  {
   "cell_type": "code",
   "execution_count": 5,
   "metadata": {},
   "outputs": [],
   "source": [
    "def lemm(text):\n",
    "    lst_text = text.split()\n",
    "    lem = nltk.stem.wordnet.WordNetLemmatizer()    \n",
    "    lst_text = [lem.lemmatize(word) for word in lst_text]\n",
    "    text = \" \".join(lst_text)  \n",
    "    return text"
   ]
  },
  {
   "cell_type": "code",
   "execution_count": 6,
   "metadata": {},
   "outputs": [],
   "source": [
    "def delete_numbers(text):\n",
    "    lst_text = text.split()\n",
    "    lst_text = [word for word in lst_text if not (word.isdecimal()==True) & (len(word)!=4 ) ]\n",
    "    text = \" \".join(lst_text)\n",
    "    return text"
   ]
  },
  {
   "cell_type": "markdown",
   "metadata": {},
   "source": [
    "### Create list of removing words"
   ]
  },
  {
   "cell_type": "code",
   "execution_count": 7,
   "metadata": {},
   "outputs": [
    {
     "name": "stdout",
     "output_type": "stream",
     "text": [
      "Number of all words is :1313622\n",
      "from original abstracts of number of articles: 255639\n",
      "Number of all words after removing rare words (contained below 5 articles) :100000\n",
      "Then after removing stopwords: 99924\n",
      "Wall time: 2min 51s\n"
     ]
    }
   ],
   "source": [
    "%%time\n",
    "\n",
    "corpus = df_all.abstract.values\n",
    "\n",
    "dataset = [d.split() for d in corpus]\n",
    "dct = Dictionary(dataset)\n",
    "print(\"Number of all words is :\" + str(len(dct) ))\n",
    "print(\"from original abstracts of number of articles: \" + str(len(df_all)))\n",
    "\n",
    "dct.filter_extremes(no_below=5)                 \n",
    "print(\"Number of all words after removing rare words (contained below 5 articles) :\" + str(len(dct) ))\n",
    "\n",
    "# dont remove negative from stopwords (it can have importance)\n",
    "stop_words = stopwords.words('english')\n",
    "remove_from_stopwords = [\"against\",\"don't\",\"no\",\"not\",\"aren't\",\"didn't\",\"doesn't\",\"needn't\",\"isn't\",\"wasn't\",\"weren't\",\"wouldn't\"]\n",
    "stop_words = [ x for x in stop_words if x is not remove_from_stopwords ]\n",
    "\n",
    "stop_words.extend([\"abstract\",\"background\",\"objective\"])\n",
    "    \n",
    "list_keep_words = list(dct.itervalues())\n",
    "list_keep_words = list(set(list_keep_words) ^ set(stop_words))\n",
    "print(\"Then after removing stopwords: \"+ str(len(list_keep_words)))\n",
    "\n",
    "list_removed_words = list(set(list(Dictionary(dataset).itervalues())) ^ set(list_keep_words))\n",
    "list_removed_words.extend(stop_words)"
   ]
  },
  {
   "cell_type": "code",
   "execution_count": 8,
   "metadata": {},
   "outputs": [
    {
     "data": {
      "text/plain": [
       "1213932"
      ]
     },
     "execution_count": 8,
     "metadata": {},
     "output_type": "execute_result"
    }
   ],
   "source": [
    "len(list_removed_words)"
   ]
  },
  {
   "cell_type": "markdown",
   "metadata": {},
   "source": [
    "### Cleaning process"
   ]
  },
  {
   "cell_type": "code",
   "execution_count": 9,
   "metadata": {},
   "outputs": [
    {
     "name": "stdout",
     "output_type": "stream",
     "text": [
      "Wall time: 21.2 s\n"
     ]
    }
   ],
   "source": [
    "%%time\n",
    "cache = set(list_removed_words)\n",
    "df_all[\"abstract_cleaned\"]  = df_all['abstract'].apply(lambda x: ' '.join([word for word in x.split() if word not in cache]))"
   ]
  },
  {
   "cell_type": "code",
   "execution_count": 10,
   "metadata": {},
   "outputs": [
    {
     "name": "stdout",
     "output_type": "stream",
     "text": [
      "Wall time: 6.21 s\n"
     ]
    }
   ],
   "source": [
    "%%time\n",
    "df_all[\"abstract_cleaned\"] = df_all[\"abstract_cleaned\"].astype(str).apply(lambda x: remove_punc_lower(x))"
   ]
  },
  {
   "cell_type": "code",
   "execution_count": 11,
   "metadata": {},
   "outputs": [
    {
     "name": "stdout",
     "output_type": "stream",
     "text": [
      "Wall time: 3min 8s\n"
     ]
    }
   ],
   "source": [
    "%%time\n",
    "df_all[\"abstract_cleaned\"] = df_all[\"abstract_cleaned\"].astype(str).apply(lambda x: lemm(x))"
   ]
  },
  {
   "cell_type": "code",
   "execution_count": 12,
   "metadata": {
    "scrolled": false
   },
   "outputs": [
    {
     "name": "stdout",
     "output_type": "stream",
     "text": [
      "Wall time: 10.1 s\n"
     ]
    }
   ],
   "source": [
    "%%time\n",
    "df_all[\"abstract_cleaned\"]  = df_all['abstract_cleaned'].apply(lambda x: ' '.join([word for word in x.split() if word not in cache]))"
   ]
  },
  {
   "cell_type": "markdown",
   "metadata": {},
   "source": [
    "### Some examples for checking:"
   ]
  },
  {
   "cell_type": "code",
   "execution_count": 13,
   "metadata": {},
   "outputs": [
    {
     "name": "stdout",
     "output_type": "stream",
     "text": [
      "[['Inflammatory diseases of the respiratory tract are commonly associated with elevated production of nitric oxide (NO•) and increased indices of NO• -dependent oxidative stress. Although NO• is known to have anti-microbial, anti-inflammatory and anti-oxidant properties, various lines of evidence support the contribution of NO• to lung injury in several disease models. On the basis of biochemical evidence, it is often presumed that such NO• -dependent oxidations are due to the formation of the oxidant peroxynitrite, although alternative mechanisms involving the phagocyte-derived heme proteins myeloperoxidase and eosinophil peroxidase might be operative during conditions of inflammation. Because of the overwhelming literature on NO• generation and activities in the respiratory tract, it would be beyond the scope of this commentary to review this area comprehensively. Instead, it focuses on recent evidence and concepts of the presumed contribution of NO• to inflammatory diseases of the lung.'\n",
      "  'inflammatory disease respiratory tract commonly associated elevated production nitric oxide increased index oxidative stress although known anti-microbial anti-inflammatory anti-oxidant property various line evidence support contribution lung injury several disease model basis biochemical evidence often presumed due formation oxidant peroxynitrite although alternative mechanism involving heme protein myeloperoxidase eosinophil peroxidase might operative condition inflammation overwhelming literature generation activity respiratory tract would beyond scope commentary review area comprehensively instead focus recent evidence concept presumed contribution inflammatory disease lung']]\n"
     ]
    }
   ],
   "source": [
    "df_all[\"abstract_cleaned\"] = df_all[\"abstract_cleaned\"].astype(str).apply(lambda x: delete_numbers(x))\n",
    "print(df_all[['abstract',\"abstract_cleaned\"]][1:2].values)"
   ]
  },
  {
   "cell_type": "code",
   "execution_count": 14,
   "metadata": {},
   "outputs": [
    {
     "name": "stdout",
     "output_type": "stream",
     "text": [
      "[['Endothelin-1 (ET-1) is a 21 amino acid peptide with diverse biological activity that has been implicated in numerous diseases. ET-1 is a potent mitogen regulator of smooth muscle tone, and inflammatory mediator that may play a key role in diseases of the airways, pulmonary circulation, and inflammatory lung diseases, both acute and chronic. This review will focus on the biology of ET-1 and its role in lung disease.'\n",
      "  'amino acid peptide diverse biological activity implicated numerous disease et-1 potent mitogen regulator smooth muscle tone inflammatory mediator may play key role disease airway pulmonary circulation inflammatory lung disease acute chronic review focus biology et-1 role lung disease']]\n"
     ]
    }
   ],
   "source": [
    "print(df_all[['abstract',\"abstract_cleaned\"]][3:4].values)"
   ]
  },
  {
   "cell_type": "code",
   "execution_count": 15,
   "metadata": {},
   "outputs": [
    {
     "name": "stdout",
     "output_type": "stream",
     "text": [
      "[['This report describes the design and implementation of the Real-time Outbreak and Disease Surveillance (RODS) system, a computer-based public health surveillance system for early detection of disease outbreaks. Hospitals send RODS data from clinical encounters over virtual private networks and leased lines using the Health Level 7 (HL7) message protocol. The data are sent in real time. RODS automatically classifies the registration chief complaint from the visit into one of seven syndrome categories using Bayesian classifiers. It stores the data in a relational database, aggregates the data for analysis using data warehousing techniques, applies univariate and multivariate statistical detection algorithms to the data, and alerts users of when the algorithms identify anomalous patterns in the syndrome counts. RODS also has a Web-based user interface that supports temporal and spatial analyses. RODS processes sales of over-the-counter health care products in a similar manner but receives such data in batch mode on a daily basis. RODS was used during the 2002 Winter Olympics and currently operates in two states—Pennsylvania and Utah. It has been and continues to be a resource for implementing, evaluating, and applying new methods of public health surveillance.'\n",
      "  'report describes design implementation real-time outbreak disease surveillance system computer-based public health surveillance system early detection disease outbreak hospital send data clinical encounter virtual private network line using health level message protocol data sent real time automatically classifies registration chief complaint visit one seven syndrome category using bayesian classifier store data relational database aggregate data analysis using data technique applies univariate multivariate statistical detection algorithm data alert user algorithm identify anomalous pattern syndrome count also web-based user interface support temporal spatial analysis process sale over-the-counter health care product similar manner receives data batch mode daily basis used 2002 winter olympics currently operates two utah continues resource implementing evaluating applying new method public health surveillance']]\n"
     ]
    }
   ],
   "source": [
    "print(df_all[['abstract',\"abstract_cleaned\"]][9:10].values)"
   ]
  },
  {
   "cell_type": "code",
   "execution_count": 16,
   "metadata": {},
   "outputs": [
    {
     "name": "stdout",
     "output_type": "stream",
     "text": [
      "[['Horizontal DNA transfer is an important factor of evolution and participates in biological diversity. Unfortunately, the location and length of horizontal transfers (HTs) are known for very few species. The usage of short oligonucleotides in a sequence (the so-called genomic signature) has been shown to be species-specific even in DNA fragments as short as 1 kb. The genomic signature is therefore proposed as a tool to detect HTs. Since DNA transfers originate from species with a signature different from those of the recipient species, the analysis of local variations of signature along recipient genome may allow for detecting exogenous DNA. The strategy consists in (i) scanning the genome with a sliding window, and calculating the corresponding local signature (ii) evaluating its deviation from the signature of the whole genome and (iii) looking for similar signatures in a database of genomic signatures. A total of 22 prokaryote genomes are analyzed in this way. It has been observed that atypical regions make up ∼6% of each genome on the average. Most of the claimed HTs as well as new ones are detected. The origin of putative DNA transfers is looked for among ∼12 000 species. Donor species are proposed and sometimes strongly suggested, considering similarity of signatures. Among the species studied, Bacillus subtilis, Haemophilus Influenzae and Escherichia coli are investigated by many authors and give the opportunity to perform a thorough comparison of most of the bioinformatics methods used to detect HTs.'\n",
      "  'horizontal dna transfer important factor evolution participates biological diversity unfortunately location length horizontal transfer known specie usage short oligonucleotides sequence so-called genomic shown species-specific even dna fragment short kb genomic signature therefore proposed tool detect since dna transfer originate specie signature different recipient specie analysis local variation signature along recipient genome may allow detecting exogenous dna strategy consists scanning genome sliding window calculating corresponding local signature evaluating deviation signature whole genome looking similar signature database genomic signature total prokaryote genome analyzed way observed atypical region make genome average claimed well new one detected origin putative dna transfer looked among specie donor specie proposed sometimes strongly suggested considering similarity signature among specie studied bacillus subtilis escherichia coli investigated many author give opportunity perform thorough comparison bioinformatics method used detect']]\n"
     ]
    }
   ],
   "source": [
    "print(df_all[['abstract',\"abstract_cleaned\"]][21:22].values)"
   ]
  },
  {
   "cell_type": "code",
   "execution_count": 17,
   "metadata": {},
   "outputs": [
    {
     "name": "stdout",
     "output_type": "stream",
     "text": [
      "Number of words after cleaning: 39653\n"
     ]
    }
   ],
   "source": [
    "corpus = df_all.abstract_cleaned.values\n",
    "dataset = [d.split() for d in corpus]\n",
    "dct = Dictionary(dataset)\n",
    "print(\"Number of words after cleaning: \"+str(len(dct)))"
   ]
  },
  {
   "cell_type": "markdown",
   "metadata": {},
   "source": [
    "# FInal export"
   ]
  },
  {
   "cell_type": "code",
   "execution_count": 19,
   "metadata": {},
   "outputs": [],
   "source": [
    "df_all['len'] =df_all['abstract_cleaned'].astype(str).map(len)\n",
    "df_final_cleaned = df_all[df_all['len']>5]"
   ]
  },
  {
   "cell_type": "code",
   "execution_count": 20,
   "metadata": {},
   "outputs": [
    {
     "name": "stdout",
     "output_type": "stream",
     "text": [
      "Number of articles of cleaned abstracts with len of abstract > 5:255500\n"
     ]
    }
   ],
   "source": [
    "print(\"Number of articles of cleaned abstracts with len of abstract > 5:\" + str(len(df_final_cleaned)))"
   ]
  },
  {
   "cell_type": "code",
   "execution_count": 3,
   "metadata": {
    "collapsed": true
   },
   "outputs": [
    {
     "ename": "NameError",
     "evalue": "name 'df_final_cleaned' is not defined",
     "output_type": "error",
     "traceback": [
      "\u001b[1;31m---------------------------------------------------------------------------\u001b[0m",
      "\u001b[1;31mNameError\u001b[0m                                 Traceback (most recent call last)",
      "\u001b[1;32m<ipython-input-3-a73503d5b220>\u001b[0m in \u001b[0;36m<module>\u001b[1;34m\u001b[0m\n\u001b[1;32m----> 1\u001b[1;33m \u001b[0mdf_final_cleaned\u001b[0m\u001b[1;33m.\u001b[0m\u001b[0mto_csv\u001b[0m\u001b[1;33m(\u001b[0m\u001b[1;34m\"1.Preprocessing_outputs/df_sw_tok_low_punc_lemm_v5.csv\"\u001b[0m\u001b[1;33m)\u001b[0m\u001b[1;33m\u001b[0m\u001b[1;33m\u001b[0m\u001b[0m\n\u001b[0m",
      "\u001b[1;31mNameError\u001b[0m: name 'df_final_cleaned' is not defined"
     ]
    }
   ],
   "source": [
    "df_final_cleaned.to_csv(\"1.Preprocessing_outputs/df_sw_tok_low_punc_lemm_v5.csv\")"
   ]
  },
  {
   "cell_type": "code",
   "execution_count": 8,
   "metadata": {},
   "outputs": [],
   "source": [
    "df_all = pd.read_csv(\"1.Preprocessing_outputs/df_sw_tok_low_punc_lemm_v5.csv\")"
   ]
  },
  {
   "cell_type": "code",
   "execution_count": 9,
   "metadata": {},
   "outputs": [
    {
     "data": {
      "text/html": [
       "<div>\n",
       "<style scoped>\n",
       "    .dataframe tbody tr th:only-of-type {\n",
       "        vertical-align: middle;\n",
       "    }\n",
       "\n",
       "    .dataframe tbody tr th {\n",
       "        vertical-align: top;\n",
       "    }\n",
       "\n",
       "    .dataframe thead th {\n",
       "        text-align: right;\n",
       "    }\n",
       "</style>\n",
       "<table border=\"1\" class=\"dataframe\">\n",
       "  <thead>\n",
       "    <tr style=\"text-align: right;\">\n",
       "      <th></th>\n",
       "      <th>Unnamed: 0</th>\n",
       "      <th>Year</th>\n",
       "      <th>Month</th>\n",
       "      <th>abstract</th>\n",
       "      <th>doi</th>\n",
       "      <th>cord_uid</th>\n",
       "      <th>len</th>\n",
       "      <th>abstract_cleaned</th>\n",
       "    </tr>\n",
       "  </thead>\n",
       "  <tbody>\n",
       "    <tr>\n",
       "      <th>0</th>\n",
       "      <td>0</td>\n",
       "      <td>2001.0</td>\n",
       "      <td>7.0</td>\n",
       "      <td>OBJECTIVE: This retrospective chart review des...</td>\n",
       "      <td>10.1186/1471-2334-1-6</td>\n",
       "      <td>ug7v899j</td>\n",
       "      <td>1061</td>\n",
       "      <td>retrospective chart review describes epidemiol...</td>\n",
       "    </tr>\n",
       "    <tr>\n",
       "      <th>1</th>\n",
       "      <td>1</td>\n",
       "      <td>2000.0</td>\n",
       "      <td>8.0</td>\n",
       "      <td>Inflammatory diseases of the respiratory tract...</td>\n",
       "      <td>10.1186/rr14</td>\n",
       "      <td>02tnwd4m</td>\n",
       "      <td>686</td>\n",
       "      <td>inflammatory disease respiratory tract commonl...</td>\n",
       "    </tr>\n",
       "    <tr>\n",
       "      <th>2</th>\n",
       "      <td>2</td>\n",
       "      <td>2000.0</td>\n",
       "      <td>8.0</td>\n",
       "      <td>Surfactant protein-D (SP-D) participates in th...</td>\n",
       "      <td>10.1186/rr19</td>\n",
       "      <td>ejv2xln0</td>\n",
       "      <td>1193</td>\n",
       "      <td>surfactant sp-d participates innate response i...</td>\n",
       "    </tr>\n",
       "    <tr>\n",
       "      <th>3</th>\n",
       "      <td>3</td>\n",
       "      <td>2001.0</td>\n",
       "      <td>2.0</td>\n",
       "      <td>Endothelin-1 (ET-1) is a 21 amino acid peptide...</td>\n",
       "      <td>10.1186/rr44</td>\n",
       "      <td>2b73a28n</td>\n",
       "      <td>284</td>\n",
       "      <td>amino acid peptide diverse biological activity...</td>\n",
       "    </tr>\n",
       "    <tr>\n",
       "      <th>4</th>\n",
       "      <td>4</td>\n",
       "      <td>2001.0</td>\n",
       "      <td>5.0</td>\n",
       "      <td>Respiratory syncytial virus (RSV) and pneumoni...</td>\n",
       "      <td>10.1186/rr61</td>\n",
       "      <td>9785vg6d</td>\n",
       "      <td>617</td>\n",
       "      <td>respiratory syncytial virus rsv pneumonia viru...</td>\n",
       "    </tr>\n",
       "    <tr>\n",
       "      <th>...</th>\n",
       "      <td>...</td>\n",
       "      <td>...</td>\n",
       "      <td>...</td>\n",
       "      <td>...</td>\n",
       "      <td>...</td>\n",
       "      <td>...</td>\n",
       "      <td>...</td>\n",
       "      <td>...</td>\n",
       "    </tr>\n",
       "    <tr>\n",
       "      <th>255495</th>\n",
       "      <td>659496</td>\n",
       "      <td>2020.0</td>\n",
       "      <td>4.0</td>\n",
       "      <td>Public Health professionals and academics have...</td>\n",
       "      <td>10.23750/abm.v91i3-s.9507</td>\n",
       "      <td>9havlnub</td>\n",
       "      <td>1259</td>\n",
       "      <td>public health professional academic frontline ...</td>\n",
       "    </tr>\n",
       "    <tr>\n",
       "      <th>255496</th>\n",
       "      <td>659497</td>\n",
       "      <td>2021.0</td>\n",
       "      <td>4.0</td>\n",
       "      <td>PURPOSE: The benefits of regular physical exer...</td>\n",
       "      <td>10.1007/s00432-021-03621-7</td>\n",
       "      <td>1bx1f3vg</td>\n",
       "      <td>1566</td>\n",
       "      <td>purpose benefit regular physical exercise tole...</td>\n",
       "    </tr>\n",
       "    <tr>\n",
       "      <th>255497</th>\n",
       "      <td>659498</td>\n",
       "      <td>2020.0</td>\n",
       "      <td>10.0</td>\n",
       "      <td>BACKGROUND: Despite the vast majority of indiv...</td>\n",
       "      <td>10.1093/cid/ciaa1627</td>\n",
       "      <td>fffrnhbx</td>\n",
       "      <td>1044</td>\n",
       "      <td>despite vast majority individual succumbing in...</td>\n",
       "    </tr>\n",
       "    <tr>\n",
       "      <th>255498</th>\n",
       "      <td>659499</td>\n",
       "      <td>2020.0</td>\n",
       "      <td>5.0</td>\n",
       "      <td>The emergence of SARS-CoV-2 is responsible for...</td>\n",
       "      <td>10.1101/2020.04.09.034868</td>\n",
       "      <td>crz52oo8</td>\n",
       "      <td>1181</td>\n",
       "      <td>emergence responsible pandemic respiratory dis...</td>\n",
       "    </tr>\n",
       "    <tr>\n",
       "      <th>255499</th>\n",
       "      <td>659501</td>\n",
       "      <td>2020.0</td>\n",
       "      <td>5.0</td>\n",
       "      <td>This study describes the pathology and clinica...</td>\n",
       "      <td>10.1177/1093526620925569</td>\n",
       "      <td>kdo2hir8</td>\n",
       "      <td>214</td>\n",
       "      <td>study describes pathology clinical information...</td>\n",
       "    </tr>\n",
       "  </tbody>\n",
       "</table>\n",
       "<p>255500 rows × 8 columns</p>\n",
       "</div>"
      ],
      "text/plain": [
       "        Unnamed: 0    Year  Month  \\\n",
       "0                0  2001.0    7.0   \n",
       "1                1  2000.0    8.0   \n",
       "2                2  2000.0    8.0   \n",
       "3                3  2001.0    2.0   \n",
       "4                4  2001.0    5.0   \n",
       "...            ...     ...    ...   \n",
       "255495      659496  2020.0    4.0   \n",
       "255496      659497  2021.0    4.0   \n",
       "255497      659498  2020.0   10.0   \n",
       "255498      659499  2020.0    5.0   \n",
       "255499      659501  2020.0    5.0   \n",
       "\n",
       "                                                 abstract  \\\n",
       "0       OBJECTIVE: This retrospective chart review des...   \n",
       "1       Inflammatory diseases of the respiratory tract...   \n",
       "2       Surfactant protein-D (SP-D) participates in th...   \n",
       "3       Endothelin-1 (ET-1) is a 21 amino acid peptide...   \n",
       "4       Respiratory syncytial virus (RSV) and pneumoni...   \n",
       "...                                                   ...   \n",
       "255495  Public Health professionals and academics have...   \n",
       "255496  PURPOSE: The benefits of regular physical exer...   \n",
       "255497  BACKGROUND: Despite the vast majority of indiv...   \n",
       "255498  The emergence of SARS-CoV-2 is responsible for...   \n",
       "255499  This study describes the pathology and clinica...   \n",
       "\n",
       "                               doi  cord_uid   len  \\\n",
       "0            10.1186/1471-2334-1-6  ug7v899j  1061   \n",
       "1                     10.1186/rr14  02tnwd4m   686   \n",
       "2                     10.1186/rr19  ejv2xln0  1193   \n",
       "3                     10.1186/rr44  2b73a28n   284   \n",
       "4                     10.1186/rr61  9785vg6d   617   \n",
       "...                            ...       ...   ...   \n",
       "255495   10.23750/abm.v91i3-s.9507  9havlnub  1259   \n",
       "255496  10.1007/s00432-021-03621-7  1bx1f3vg  1566   \n",
       "255497        10.1093/cid/ciaa1627  fffrnhbx  1044   \n",
       "255498   10.1101/2020.04.09.034868  crz52oo8  1181   \n",
       "255499    10.1177/1093526620925569  kdo2hir8   214   \n",
       "\n",
       "                                         abstract_cleaned  \n",
       "0       retrospective chart review describes epidemiol...  \n",
       "1       inflammatory disease respiratory tract commonl...  \n",
       "2       surfactant sp-d participates innate response i...  \n",
       "3       amino acid peptide diverse biological activity...  \n",
       "4       respiratory syncytial virus rsv pneumonia viru...  \n",
       "...                                                   ...  \n",
       "255495  public health professional academic frontline ...  \n",
       "255496  purpose benefit regular physical exercise tole...  \n",
       "255497  despite vast majority individual succumbing in...  \n",
       "255498  emergence responsible pandemic respiratory dis...  \n",
       "255499  study describes pathology clinical information...  \n",
       "\n",
       "[255500 rows x 8 columns]"
      ]
     },
     "execution_count": 9,
     "metadata": {},
     "output_type": "execute_result"
    }
   ],
   "source": [
    "df_all"
   ]
  }
 ],
 "metadata": {
  "kernelspec": {
   "display_name": "Python 3",
   "language": "python",
   "name": "python3"
  },
  "language_info": {
   "codemirror_mode": {
    "name": "ipython",
    "version": 3
   },
   "file_extension": ".py",
   "mimetype": "text/x-python",
   "name": "python",
   "nbconvert_exporter": "python",
   "pygments_lexer": "ipython3",
   "version": "3.8.8"
  }
 },
 "nbformat": 4,
 "nbformat_minor": 4
}
